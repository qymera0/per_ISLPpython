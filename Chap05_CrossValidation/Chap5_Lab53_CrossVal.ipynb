{
 "cells": [
  {
   "cell_type": "markdown",
   "id": "b76a086a-e4b8-448b-81ec-a12a03540bd4",
   "metadata": {},
   "source": [
    "# Lab: Cross-Validation and the Bootstrap"
   ]
  },
  {
   "cell_type": "markdown",
   "id": "9238b32e-4c09-40ff-bb78-0c13ee05a669",
   "metadata": {},
   "source": [
    "## Load Libraries"
   ]
  },
  {
   "cell_type": "code",
   "execution_count": 1,
   "id": "c9e1f0c5-eebe-4438-91b4-cabfcdc842fa",
   "metadata": {
    "tags": []
   },
   "outputs": [],
   "source": [
    "import numpy as np\n",
    "import statsmodels.api as sm\n",
    "from ISLP import load_data\n",
    "from ISLP.models import (ModelSpec as MS, summarize , poly)\n",
    "from sklearn.model_selection import train_test_split\n",
    "from functools import partial\n",
    "from sklearn.model_selection import (cross_validate, KFold, ShuffleSplit)\n",
    "from sklearn.base import clone\n",
    "from ISLP.models import sklearn_sm"
   ]
  },
  {
   "cell_type": "markdown",
   "id": "ef555abc-d624-4254-93e7-d785862b8ebb",
   "metadata": {},
   "source": [
    "## Load data"
   ]
  },
  {
   "cell_type": "code",
   "execution_count": 3,
   "id": "82b9114d-e66e-4684-82da-665a8bfffa6b",
   "metadata": {
    "tags": []
   },
   "outputs": [
    {
     "data": {
      "text/html": [
       "<div>\n",
       "<style scoped>\n",
       "    .dataframe tbody tr th:only-of-type {\n",
       "        vertical-align: middle;\n",
       "    }\n",
       "\n",
       "    .dataframe tbody tr th {\n",
       "        vertical-align: top;\n",
       "    }\n",
       "\n",
       "    .dataframe thead th {\n",
       "        text-align: right;\n",
       "    }\n",
       "</style>\n",
       "<table border=\"1\" class=\"dataframe\">\n",
       "  <thead>\n",
       "    <tr style=\"text-align: right;\">\n",
       "      <th></th>\n",
       "      <th>mpg</th>\n",
       "      <th>cylinders</th>\n",
       "      <th>displacement</th>\n",
       "      <th>horsepower</th>\n",
       "      <th>weight</th>\n",
       "      <th>acceleration</th>\n",
       "      <th>year</th>\n",
       "      <th>origin</th>\n",
       "      <th>name</th>\n",
       "    </tr>\n",
       "  </thead>\n",
       "  <tbody>\n",
       "    <tr>\n",
       "      <th>0</th>\n",
       "      <td>18.0</td>\n",
       "      <td>8</td>\n",
       "      <td>307.0</td>\n",
       "      <td>130</td>\n",
       "      <td>3504</td>\n",
       "      <td>12.0</td>\n",
       "      <td>70</td>\n",
       "      <td>1</td>\n",
       "      <td>chevrolet chevelle malibu</td>\n",
       "    </tr>\n",
       "    <tr>\n",
       "      <th>1</th>\n",
       "      <td>15.0</td>\n",
       "      <td>8</td>\n",
       "      <td>350.0</td>\n",
       "      <td>165</td>\n",
       "      <td>3693</td>\n",
       "      <td>11.5</td>\n",
       "      <td>70</td>\n",
       "      <td>1</td>\n",
       "      <td>buick skylark 320</td>\n",
       "    </tr>\n",
       "    <tr>\n",
       "      <th>2</th>\n",
       "      <td>18.0</td>\n",
       "      <td>8</td>\n",
       "      <td>318.0</td>\n",
       "      <td>150</td>\n",
       "      <td>3436</td>\n",
       "      <td>11.0</td>\n",
       "      <td>70</td>\n",
       "      <td>1</td>\n",
       "      <td>plymouth satellite</td>\n",
       "    </tr>\n",
       "    <tr>\n",
       "      <th>3</th>\n",
       "      <td>16.0</td>\n",
       "      <td>8</td>\n",
       "      <td>304.0</td>\n",
       "      <td>150</td>\n",
       "      <td>3433</td>\n",
       "      <td>12.0</td>\n",
       "      <td>70</td>\n",
       "      <td>1</td>\n",
       "      <td>amc rebel sst</td>\n",
       "    </tr>\n",
       "    <tr>\n",
       "      <th>4</th>\n",
       "      <td>17.0</td>\n",
       "      <td>8</td>\n",
       "      <td>302.0</td>\n",
       "      <td>140</td>\n",
       "      <td>3449</td>\n",
       "      <td>10.5</td>\n",
       "      <td>70</td>\n",
       "      <td>1</td>\n",
       "      <td>ford torino</td>\n",
       "    </tr>\n",
       "  </tbody>\n",
       "</table>\n",
       "</div>"
      ],
      "text/plain": [
       "    mpg  cylinders  displacement  horsepower  weight  acceleration  year  \\\n",
       "0  18.0          8         307.0         130    3504          12.0    70   \n",
       "1  15.0          8         350.0         165    3693          11.5    70   \n",
       "2  18.0          8         318.0         150    3436          11.0    70   \n",
       "3  16.0          8         304.0         150    3433          12.0    70   \n",
       "4  17.0          8         302.0         140    3449          10.5    70   \n",
       "\n",
       "   origin                       name  \n",
       "0       1  chevrolet chevelle malibu  \n",
       "1       1          buick skylark 320  \n",
       "2       1         plymouth satellite  \n",
       "3       1              amc rebel sst  \n",
       "4       1                ford torino  "
      ]
     },
     "execution_count": 3,
     "metadata": {},
     "output_type": "execute_result"
    }
   ],
   "source": [
    "Auto = load_data('Auto')\n",
    "\n",
    "Auto.head()"
   ]
  },
  {
   "cell_type": "markdown",
   "id": "ee850682-5d67-4bd4-8e15-2c060642d642",
   "metadata": {},
   "source": [
    "## Separate train and test data"
   ]
  },
  {
   "cell_type": "code",
   "execution_count": 4,
   "id": "9bf7e00e-8339-4b1a-9bed-ad794a95936e",
   "metadata": {
    "tags": []
   },
   "outputs": [],
   "source": [
    "Auto_train, Auto_valid = train_test_split(\n",
    "                                            Auto,\n",
    "                                            test_size = 196,\n",
    "                                            random_state = 0\n",
    ")"
   ]
  },
  {
   "cell_type": "markdown",
   "id": "e55d470b-42a4-402f-98aa-5e62d85111b5",
   "metadata": {},
   "source": [
    "### Model first model"
   ]
  },
  {
   "cell_type": "code",
   "execution_count": 5,
   "id": "4e2497b5-6242-4a01-9468-152b28d04731",
   "metadata": {
    "tags": []
   },
   "outputs": [],
   "source": [
    "hp_mm = MS(['horsepower'])"
   ]
  },
  {
   "cell_type": "code",
   "execution_count": 6,
   "id": "d6504a1a-fa52-469a-970b-7f6a0fd70605",
   "metadata": {
    "tags": []
   },
   "outputs": [],
   "source": [
    "XTrain = hp_mm.fit_transform(Auto_train)"
   ]
  },
  {
   "cell_type": "code",
   "execution_count": 7,
   "id": "bf5bdee4-0a8a-4362-aac8-da1b62561aaf",
   "metadata": {
    "tags": []
   },
   "outputs": [],
   "source": [
    "yTrain = Auto_train['mpg']"
   ]
  },
  {
   "cell_type": "code",
   "execution_count": 9,
   "id": "2453f8e3-33c8-41a2-86df-abbc7bee7604",
   "metadata": {
    "tags": []
   },
   "outputs": [],
   "source": [
    "model = sm.OLS(yTrain, XTrain)"
   ]
  },
  {
   "cell_type": "code",
   "execution_count": 10,
   "id": "3b2dc4b3-b436-4721-a1f1-cc1fe6a116bf",
   "metadata": {
    "tags": []
   },
   "outputs": [],
   "source": [
    "results = model.fit()"
   ]
  },
  {
   "cell_type": "markdown",
   "id": "c2c4b4a1-8b1a-48cb-ab9b-cbff81c9e3f5",
   "metadata": {},
   "source": [
    "### Check results"
   ]
  },
  {
   "cell_type": "code",
   "execution_count": 12,
   "id": "6d0a8fd9-e1a9-42e9-9af4-f7dda2b3e64d",
   "metadata": {
    "tags": []
   },
   "outputs": [],
   "source": [
    "XValid = hp_mm.fit_transform(Auto_valid)"
   ]
  },
  {
   "cell_type": "code",
   "execution_count": 13,
   "id": "dd5eb09f-b241-4c6c-95de-c58a63e3a4c5",
   "metadata": {
    "tags": []
   },
   "outputs": [],
   "source": [
    "yValid = Auto_valid['mpg']"
   ]
  },
  {
   "cell_type": "code",
   "execution_count": 15,
   "id": "24caea43-11a8-4ff8-ae4d-26466377937c",
   "metadata": {
    "tags": []
   },
   "outputs": [],
   "source": [
    "valid_pred = results.predict(XValid)"
   ]
  },
  {
   "cell_type": "code",
   "execution_count": 17,
   "id": "eeda5323-e6e8-47c7-9ebd-7a46b7862fc9",
   "metadata": {
    "tags": []
   },
   "outputs": [
    {
     "data": {
      "text/plain": [
       "23.61661706966988"
      ]
     },
     "execution_count": 17,
     "metadata": {},
     "output_type": "execute_result"
    }
   ],
   "source": [
    "np.mean((yValid - valid_pred)**2)"
   ]
  },
  {
   "cell_type": "markdown",
   "id": "4b22413d-5052-4587-aafc-568cfc77743d",
   "metadata": {},
   "source": [
    "### Function to calculate RMSE"
   ]
  },
  {
   "cell_type": "code",
   "execution_count": 18,
   "id": "4d32274a-3b61-4f12-a249-2b6ef9e9e4f5",
   "metadata": {
    "tags": []
   },
   "outputs": [],
   "source": [
    "def evalMSE(terms, response, train, test):\n",
    "    \n",
    "    mm = MS(terms)\n",
    "    X_train = mm.fit_transform(train)\n",
    "    y_train = train[response]\n",
    "    X_test = mm.transform(test)\n",
    "    y_test = test[response]\n",
    "    results = sm.OLS(y_train , X_train).fit()\n",
    "    test_pred = results.predict(X_test)\n",
    "    \n",
    "    return np.mean((y_test - test_pred)**2)"
   ]
  },
  {
   "cell_type": "markdown",
   "id": "772833b4-854f-48f3-9289-0fa909d3c210",
   "metadata": {},
   "source": [
    "## Test different orders of polynomials"
   ]
  },
  {
   "cell_type": "code",
   "execution_count": 26,
   "id": "2a1ba507-b69f-4b09-9c0b-52b41923eb6f",
   "metadata": {
    "tags": []
   },
   "outputs": [],
   "source": [
    "MSE = np.zeros(3)"
   ]
  },
  {
   "cell_type": "code",
   "execution_count": 28,
   "id": "ea316e8a-fb1e-4a41-b044-2b2cdf8843e7",
   "metadata": {
    "tags": []
   },
   "outputs": [],
   "source": [
    "for idx, degree in enumerate(range(1, 4)):\n",
    "    MSE[idx] = evalMSE(\n",
    "                        [poly('horsepower', degree)],\n",
    "                        'mpg',\n",
    "                        Auto_train,\n",
    "                        Auto_valid\n",
    "    )"
   ]
  },
  {
   "cell_type": "code",
   "execution_count": 29,
   "id": "85e04c88-5753-45f5-972d-9f906f320a63",
   "metadata": {
    "tags": []
   },
   "outputs": [
    {
     "data": {
      "text/plain": [
       "array([23.61661707, 18.76303135, 18.79694163])"
      ]
     },
     "execution_count": 29,
     "metadata": {},
     "output_type": "execute_result"
    }
   ],
   "source": [
    "MSE"
   ]
  },
  {
   "cell_type": "markdown",
   "id": "9a318f8f-8901-46e5-873c-0f062ccdbfe2",
   "metadata": {},
   "source": [
    "## Cross-validation"
   ]
  },
  {
   "cell_type": "code",
   "execution_count": 32,
   "id": "bc5b3cbf-d6bb-47c8-8b13-86550f6e2ece",
   "metadata": {
    "tags": []
   },
   "outputs": [
    {
     "data": {
      "text/plain": [
       "24.23151351792922"
      ]
     },
     "execution_count": 32,
     "metadata": {},
     "output_type": "execute_result"
    }
   ],
   "source": [
    "hp_model = sklearn_sm(\n",
    "                        sm.OLS,\n",
    "                        MS(['horsepower'])\n",
    ")\n",
    "\n",
    "X, Y = Auto.drop(columns=['mpg']), Auto['mpg']\n",
    "\n",
    "cv_results = cross_validate(\n",
    "                                hp_model,\n",
    "                                X,\n",
    "                                Y,\n",
    "                                cv = Auto.shape[0] # LOOCV\n",
    ")\n",
    "                                                \n",
    "cv_err = np.mean(cv_results['test_score'])\n",
    "\n",
    "cv_err"
   ]
  },
  {
   "cell_type": "code",
   "execution_count": 33,
   "id": "dd9919e9-85cf-43f1-bd24-1a4edaefa073",
   "metadata": {
    "tags": []
   },
   "outputs": [],
   "source": [
    "cv_error = np.zeros(5)"
   ]
  },
  {
   "cell_type": "code",
   "execution_count": 36,
   "id": "844209a8-37e2-4610-bf4b-60a340a200c5",
   "metadata": {
    "tags": []
   },
   "outputs": [],
   "source": [
    "H = np.array(Auto['horsepower'])"
   ]
  },
  {
   "cell_type": "code",
   "execution_count": 37,
   "id": "9d9d4c44-9302-44c0-be50-008c770ebbe4",
   "metadata": {
    "tags": []
   },
   "outputs": [],
   "source": [
    "M = sklearn_sm(sm.OLS)"
   ]
  },
  {
   "cell_type": "code",
   "execution_count": 41,
   "id": "c0fb0ff1-7efe-47e8-ad2a-e44026f426cb",
   "metadata": {
    "tags": []
   },
   "outputs": [],
   "source": [
    "for i, d in enumerate(range(1, 6)):\n",
    "    X = np.power.outer(H, np.arange(d+1))\n",
    "    M_CV = cross_validate(\n",
    "                            M,\n",
    "                            X,\n",
    "                            Y,\n",
    "                            cv = Auto.shape[0] # LOOCV\n",
    "    )\n",
    "    cv_error[i] = np.mean(M_CV['test_score'])"
   ]
  },
  {
   "cell_type": "code",
   "execution_count": 42,
   "id": "e96f5256-decd-4352-b610-5e73300a836d",
   "metadata": {
    "tags": []
   },
   "outputs": [
    {
     "data": {
      "text/plain": [
       "array([24.23151352, 19.24821312, 19.33498406, 19.4244303 , 19.03322411])"
      ]
     },
     "execution_count": 42,
     "metadata": {},
     "output_type": "execute_result"
    }
   ],
   "source": [
    "cv_error"
   ]
  },
  {
   "cell_type": "code",
   "execution_count": 43,
   "id": "f719c3ce-62cf-4646-993b-1c58752889d2",
   "metadata": {
    "tags": []
   },
   "outputs": [],
   "source": [
    "cv_error = np.zeros(5)"
   ]
  },
  {
   "cell_type": "code",
   "execution_count": 46,
   "id": "1b8d9c74-0ccb-49e9-a2ee-051af710b67b",
   "metadata": {
    "tags": []
   },
   "outputs": [],
   "source": [
    "# This code only configures the CV\n",
    "\n",
    "cv = KFold(\n",
    "            n_splits = 10,\n",
    "            shuffle = True,\n",
    "            random_state = 0\n",
    ")"
   ]
  },
  {
   "cell_type": "code",
   "execution_count": 47,
   "id": "c3ec2527-11ab-4679-a6f1-6620a0249db2",
   "metadata": {
    "tags": []
   },
   "outputs": [],
   "source": [
    "for i, d in enumerate(range(1, 6)):\n",
    "    X = np.power.outer(H, np.arange(d+1))\n",
    "    M_CV = cross_validate(\n",
    "                            M,\n",
    "                            X,\n",
    "                            Y,\n",
    "                            cv = cv # 10 splits\n",
    "    )\n",
    "    cv_error[i] = np.mean(M_CV['test_score'])"
   ]
  },
  {
   "cell_type": "code",
   "execution_count": 48,
   "id": "7be7cebe-3038-4633-8d6d-db8db555bf69",
   "metadata": {
    "tags": []
   },
   "outputs": [
    {
     "data": {
      "text/plain": [
       "array([24.20766449, 19.18533142, 19.27626666, 19.47848402, 19.13719154])"
      ]
     },
     "execution_count": 48,
     "metadata": {},
     "output_type": "execute_result"
    }
   ],
   "source": [
    "cv_error"
   ]
  },
  {
   "cell_type": "code",
   "execution_count": 49,
   "id": "eebc9558-3b5e-4da7-9d31-f189d08276d3",
   "metadata": {
    "tags": []
   },
   "outputs": [],
   "source": [
    "validation = ShuffleSplit(\n",
    "                        n_splits=1,\n",
    "                        test_size=196,\n",
    "                        random_state=0\n",
    ")"
   ]
  },
  {
   "cell_type": "code",
   "execution_count": 50,
   "id": "a648b86f-dc2a-4e0f-b4e5-b9b927de9760",
   "metadata": {
    "tags": []
   },
   "outputs": [],
   "source": [
    "results = cross_validate(\n",
    "                        hp_model ,\n",
    "                        Auto.drop(['mpg'], axis=1),\n",
    "                        Auto['mpg'],\n",
    "                        cv=validation\n",
    ")"
   ]
  },
  {
   "cell_type": "code",
   "execution_count": 51,
   "id": "f8d6f4fa-5cd7-4219-84f8-a4d6ea0a332e",
   "metadata": {
    "tags": []
   },
   "outputs": [
    {
     "data": {
      "text/plain": [
       "array([23.61661707])"
      ]
     },
     "execution_count": 51,
     "metadata": {},
     "output_type": "execute_result"
    }
   ],
   "source": [
    "results['test_score']"
   ]
  },
  {
   "cell_type": "code",
   "execution_count": 52,
   "id": "84e691c9-ef3b-4ef4-803e-5523df174434",
   "metadata": {
    "tags": []
   },
   "outputs": [],
   "source": [
    "validation = ShuffleSplit(\n",
    "                        n_splits=10,\n",
    "                        test_size=196,\n",
    "                        random_state=0\n",
    ")"
   ]
  },
  {
   "cell_type": "code",
   "execution_count": 53,
   "id": "3bae9c8c-f1b1-492f-ae54-b8e5e78e8e21",
   "metadata": {
    "tags": []
   },
   "outputs": [],
   "source": [
    "results = cross_validate(\n",
    "                        hp_model ,\n",
    "                        Auto.drop(['mpg'], axis=1),\n",
    "                        Auto['mpg'],\n",
    "                        cv=validation\n",
    ")"
   ]
  },
  {
   "cell_type": "code",
   "execution_count": 54,
   "id": "c54b45c9-f056-46ce-84a0-bb18d9ab573f",
   "metadata": {
    "tags": []
   },
   "outputs": [
    {
     "data": {
      "text/plain": [
       "(23.802232661034164, 1.4218450941091831)"
      ]
     },
     "execution_count": 54,
     "metadata": {},
     "output_type": "execute_result"
    }
   ],
   "source": [
    "results['test_score'].mean(), results['test_score'].std()"
   ]
  },
  {
   "cell_type": "markdown",
   "id": "e0253321-5b8f-4d9e-9c08-76294c7b8d6b",
   "metadata": {},
   "source": [
    "## Bootstrap"
   ]
  },
  {
   "cell_type": "code",
   "execution_count": 56,
   "id": "2733db39-f4d3-4f66-9e99-d2ec3e6a49d0",
   "metadata": {
    "tags": []
   },
   "outputs": [],
   "source": [
    "Portfolio = load_data('Portfolio')"
   ]
  },
  {
   "cell_type": "code",
   "execution_count": 57,
   "id": "527b80fb-47d8-49eb-ae23-8d6570713478",
   "metadata": {
    "tags": []
   },
   "outputs": [],
   "source": [
    "def alpha_func(D, idx):\n",
    "    cov_ = np.cov(D[['X', 'Y']].loc[idx], rowvar = False)\n",
    "    return((cov_[1, 1] - cov_[0, 1]) / (cov_[0,0]+cov_[1,1]-2*cov_[0,1]))"
   ]
  },
  {
   "cell_type": "code",
   "execution_count": 59,
   "id": "80d7f7a8-f68f-4005-bff8-d509ba869691",
   "metadata": {
    "tags": []
   },
   "outputs": [
    {
     "data": {
      "text/plain": [
       "0.57583207459283"
      ]
     },
     "execution_count": 59,
     "metadata": {},
     "output_type": "execute_result"
    }
   ],
   "source": [
    "alpha_func(Portfolio, range(100))"
   ]
  },
  {
   "cell_type": "code",
   "execution_count": 62,
   "id": "7e7fae8c-fd2e-4f73-bac6-3241b910ceec",
   "metadata": {
    "tags": []
   },
   "outputs": [
    {
     "data": {
      "text/plain": [
       "0.6074452469619004"
      ]
     },
     "execution_count": 62,
     "metadata": {},
     "output_type": "execute_result"
    }
   ],
   "source": [
    "# Selecting with replacement\n",
    "\n",
    "rng = np.random.default_rng(0) # Creates a generator\n",
    "\n",
    "alpha_func(\n",
    "            Portfolio,\n",
    "            rng.choice(100, 100, replace = True)\n",
    ")\n"
   ]
  },
  {
   "cell_type": "code",
   "execution_count": 68,
   "id": "c9e06b4c-1555-4577-a259-0bb3bfccc6f4",
   "metadata": {
    "tags": []
   },
   "outputs": [],
   "source": [
    "# Standard error for the bootstrap\n",
    "\n",
    "def boot_SE(func, D, n = None, B = 1000, seed = 0):\n",
    "    rng = np.random.default_rng(seed) # Creates a generator\n",
    "    first_, second_ = 0, 0 # Initialize the values first and second\n",
    "    n = n or D.shape[0] # Uses shape in case of n = None\n",
    "    for _ in range(B):\n",
    "        idx = rng.choice(D.index, n, replace = True) # Choice \n",
    "        value = func(D, idx)\n",
    "        first_ += value\n",
    "        second_ += value**2\n",
    "    return np.sqrt(second_ / B - (first_ / B)**2)    \n"
   ]
  },
  {
   "cell_type": "code",
   "execution_count": 69,
   "id": "040401a2-334e-466d-8242-48c4866abbe0",
   "metadata": {
    "tags": []
   },
   "outputs": [],
   "source": [
    "alpha_SE = boot_SE(alpha_func, Portfolio, B = 1000, seed = 0)"
   ]
  },
  {
   "cell_type": "code",
   "execution_count": 70,
   "id": "ad71d27f-e007-4694-b99c-03e290990dc1",
   "metadata": {
    "tags": []
   },
   "outputs": [
    {
     "data": {
      "text/plain": [
       "0.09118176521277699"
      ]
     },
     "execution_count": 70,
     "metadata": {},
     "output_type": "execute_result"
    }
   ],
   "source": [
    "alpha_SE"
   ]
  },
  {
   "cell_type": "code",
   "execution_count": 87,
   "id": "feb87ae3-cd4b-4d8e-bfec-7a33efd6b340",
   "metadata": {
    "tags": []
   },
   "outputs": [],
   "source": [
    "def boot_OLS(model_matrix , response , D, idx):\n",
    "    D_ = D.loc[idx]\n",
    "    Y_ = D_[response]\n",
    "    X_ = clone(model_matrix).fit_transform(D_)\n",
    "    return sm.OLS(Y_, X_).fit().params"
   ]
  },
  {
   "cell_type": "code",
   "execution_count": 90,
   "id": "02358c89-a491-4329-8278-f77ba6488221",
   "metadata": {
    "tags": []
   },
   "outputs": [],
   "source": [
    "hp_func = partial(boot_OLS, MS(['horsepower']), 'mpg')"
   ]
  },
  {
   "cell_type": "code",
   "execution_count": 91,
   "id": "d0d1258c-9793-4327-89d7-06f18cf3acce",
   "metadata": {
    "tags": []
   },
   "outputs": [
    {
     "data": {
      "text/plain": [
       "array([[39.88064456, -0.1567849 ],\n",
       "       [38.73298691, -0.14699495],\n",
       "       [38.31734657, -0.14442683],\n",
       "       [39.91446826, -0.15782234],\n",
       "       [39.43349349, -0.15072702],\n",
       "       [40.36629857, -0.15912217],\n",
       "       [39.62334517, -0.15449117],\n",
       "       [39.0580588 , -0.14952908],\n",
       "       [38.66688437, -0.14521037],\n",
       "       [39.64280792, -0.15555698]])"
      ]
     },
     "execution_count": 91,
     "metadata": {},
     "output_type": "execute_result"
    }
   ],
   "source": [
    "rng = np.random.default_rng(0)\n",
    "np.array([hp_func(Auto, rng.choice(392, 392, replace=True)) for _ in range(10)])"
   ]
  },
  {
   "cell_type": "code",
   "execution_count": 92,
   "id": "932ba0ed-7c7e-4d33-9232-5209a92a1249",
   "metadata": {
    "tags": []
   },
   "outputs": [],
   "source": [
    "hp_se = boot_SE(hp_func, Auto, B = 1000, seed = 10)"
   ]
  },
  {
   "cell_type": "code",
   "execution_count": 93,
   "id": "5fbe9536-9780-429e-ab79-d0c203414ce5",
   "metadata": {
    "tags": []
   },
   "outputs": [
    {
     "data": {
      "text/plain": [
       "intercept     0.848807\n",
       "horsepower    0.007352\n",
       "dtype: float64"
      ]
     },
     "execution_count": 93,
     "metadata": {},
     "output_type": "execute_result"
    }
   ],
   "source": [
    "hp_se"
   ]
  }
 ],
 "metadata": {
  "kernelspec": {
   "display_name": "Python 3 (ipykernel)",
   "language": "python",
   "name": "python3"
  },
  "language_info": {
   "codemirror_mode": {
    "name": "ipython",
    "version": 3
   },
   "file_extension": ".py",
   "mimetype": "text/x-python",
   "name": "python",
   "nbconvert_exporter": "python",
   "pygments_lexer": "ipython3",
   "version": "3.11.4"
  }
 },
 "nbformat": 4,
 "nbformat_minor": 5
}
