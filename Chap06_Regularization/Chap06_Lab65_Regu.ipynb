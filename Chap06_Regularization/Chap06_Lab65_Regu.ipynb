{
 "cells": [
  {
   "cell_type": "markdown",
   "id": "abcb0c6c-1eb1-43e2-88e1-2d41d6236cbe",
   "metadata": {},
   "source": [
    "# LAB 6.2 LINEAR MODELS AND REGULARIZATION"
   ]
  },
  {
   "cell_type": "markdown",
   "id": "3a40c54f-507a-425f-ab5a-d31951d3e3b0",
   "metadata": {},
   "source": [
    "## Load libraries"
   ]
  },
  {
   "cell_type": "code",
   "execution_count": 1,
   "id": "48b4e71c-88e2-4776-a714-10f089a5841b",
   "metadata": {
    "tags": []
   },
   "outputs": [],
   "source": [
    "import numpy as np\n",
    "import pandas as pd\n",
    "from matplotlib.pyplot import subplots\n",
    "from statsmodels.api import OLS\n",
    "import sklearn.model_selection as skm\n",
    "import sklearn.linear_model as skl\n",
    "from sklearn.preprocessing import StandardScaler\n",
    "from ISLP import load_data\n",
    "from ISLP.models import ModelSpec as MS\n",
    "from functools import partial\n",
    "from sklearn.pipeline import Pipeline\n",
    "from sklearn.decomposition import PCA\n",
    "from sklearn.cross_decomposition import PLSRegression\n",
    "from ISLP.models import (Stepwise, sklearn_selected, sklearn_selection_path)\n",
    "from l0bnb import fit_path"
   ]
  },
  {
   "cell_type": "markdown",
   "id": "0101632c-2b83-40f8-ab91-88b40137c040",
   "metadata": {},
   "source": [
    "## Load data"
   ]
  },
  {
   "cell_type": "code",
   "execution_count": 2,
   "id": "2c5fbf8b-82eb-4031-a612-cc2bff3de49f",
   "metadata": {
    "tags": []
   },
   "outputs": [],
   "source": [
    "hitters = load_data('Hitters')"
   ]
  },
  {
   "cell_type": "code",
   "execution_count": 3,
   "id": "53b54374-bd17-45f2-b429-7d51cd0cee33",
   "metadata": {
    "tags": []
   },
   "outputs": [
    {
     "data": {
      "text/plain": [
       "59"
      ]
     },
     "execution_count": 3,
     "metadata": {},
     "output_type": "execute_result"
    }
   ],
   "source": [
    "np.isnan(hitters['Salary']).sum()"
   ]
  },
  {
   "cell_type": "code",
   "execution_count": 4,
   "id": "87a9f108-d4e8-4f90-8a6b-877ca9f51cc4",
   "metadata": {
    "tags": []
   },
   "outputs": [],
   "source": [
    "# Drop NA\n",
    "\n",
    "hitters = hitters.dropna()"
   ]
  },
  {
   "cell_type": "code",
   "execution_count": 10,
   "id": "90f6ac15-b716-4443-b540-bac071d8178c",
   "metadata": {
    "tags": []
   },
   "outputs": [
    {
     "data": {
      "text/plain": [
       "(263, 20)"
      ]
     },
     "execution_count": 10,
     "metadata": {},
     "output_type": "execute_result"
    }
   ],
   "source": [
    "hitters.shape"
   ]
  },
  {
   "cell_type": "markdown",
   "id": "dea96c51-4031-4c43-a271-5f5a6e48d468",
   "metadata": {},
   "source": [
    "## Forward selection"
   ]
  },
  {
   "cell_type": "code",
   "execution_count": 5,
   "id": "f38b0522-ab3e-47bb-9156-077ae17a1a32",
   "metadata": {
    "tags": []
   },
   "outputs": [],
   "source": [
    "def nCp(sigma2, estimator, X, Y):\n",
    "    'Negative Cp statistics'\n",
    "    n, P = X.shape\n",
    "    yHat = estimator.predict(X)\n",
    "    RSS = np.sum((Y - yHat) ** 2)\n",
    "    cp = -(RSS + 2*p*sigma2) / n\n",
    "    return cp"
   ]
  },
  {
   "cell_type": "code",
   "execution_count": 6,
   "id": "b1c0fb78-6f48-4919-94b7-bbbe7993b5f5",
   "metadata": {
    "tags": []
   },
   "outputs": [],
   "source": [
    "design = MS(hitters.columns.drop('Salary')).fit(hitters)"
   ]
  },
  {
   "cell_type": "code",
   "execution_count": 8,
   "id": "3615c015-aca5-45d9-bfb5-178664a4d601",
   "metadata": {
    "tags": []
   },
   "outputs": [],
   "source": [
    "Y = np.array(hitters['Salary'])\n",
    "X = design.transform(hitters)"
   ]
  },
  {
   "cell_type": "code",
   "execution_count": 13,
   "id": "4daea552-f496-4a8a-bcf4-50d09f77eb73",
   "metadata": {
    "tags": []
   },
   "outputs": [
    {
     "data": {
      "text/plain": [
       "99591.35617968219"
      ]
     },
     "execution_count": 13,
     "metadata": {},
     "output_type": "execute_result"
    }
   ],
   "source": [
    "sigma2 = OLS(Y, X).fit().scale\n",
    "\n",
    "sigma2"
   ]
  },
  {
   "cell_type": "code",
   "execution_count": 16,
   "id": "44c7c816-b8e2-4a6f-be28-f1171b6338c1",
   "metadata": {
    "tags": []
   },
   "outputs": [],
   "source": [
    "negCp = partial(nCp, sigma2)"
   ]
  },
  {
   "cell_type": "code",
   "execution_count": 17,
   "id": "59c168ee-bca6-44de-b58f-e86199f86710",
   "metadata": {
    "tags": []
   },
   "outputs": [],
   "source": [
    "strategy = Stepwise.first_peak(\n",
    "                                design,\n",
    "                                direction = 'forward',\n",
    "                                max_terms = len(design.terms)\n",
    ")"
   ]
  },
  {
   "cell_type": "code",
   "execution_count": 19,
   "id": "b9ca4b11-0927-4ace-90a6-38875270a132",
   "metadata": {
    "tags": []
   },
   "outputs": [],
   "source": [
    "hitters_MSE = sklearn_selected(OLS, strategy)"
   ]
  },
  {
   "cell_type": "code",
   "execution_count": 20,
   "id": "e1394a56-6431-4b0d-a82c-1b4f8e54a40b",
   "metadata": {
    "tags": []
   },
   "outputs": [],
   "source": [
    "hitters_MSE.fit(hitters, Y)"
   ]
  },
  {
   "cell_type": "code",
   "execution_count": 21,
   "id": "a1e777e5-5196-4774-9885-a02801a075c9",
   "metadata": {
    "tags": []
   },
   "outputs": [
    {
     "data": {
      "text/plain": [
       "('Assists',\n",
       " 'AtBat',\n",
       " 'CAtBat',\n",
       " 'CHits',\n",
       " 'CHmRun',\n",
       " 'CRBI',\n",
       " 'CRuns',\n",
       " 'CWalks',\n",
       " 'Division',\n",
       " 'Errors',\n",
       " 'Hits',\n",
       " 'HmRun',\n",
       " 'League',\n",
       " 'NewLeague',\n",
       " 'PutOuts',\n",
       " 'RBI',\n",
       " 'Runs',\n",
       " 'Walks',\n",
       " 'Years')"
      ]
     },
     "execution_count": 21,
     "metadata": {},
     "output_type": "execute_result"
    }
   ],
   "source": [
    "hitters_MSE.selected_state_"
   ]
  }
 ],
 "metadata": {
  "kernelspec": {
   "display_name": "Python 3 (ipykernel)",
   "language": "python",
   "name": "python3"
  },
  "language_info": {
   "codemirror_mode": {
    "name": "ipython",
    "version": 3
   },
   "file_extension": ".py",
   "mimetype": "text/x-python",
   "name": "python",
   "nbconvert_exporter": "python",
   "pygments_lexer": "ipython3",
   "version": "3.11.4"
  }
 },
 "nbformat": 4,
 "nbformat_minor": 5
}
